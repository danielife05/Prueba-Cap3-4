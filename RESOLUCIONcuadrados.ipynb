{
 "cells": [
  {
   "cell_type": "code",
   "execution_count": 2,
   "metadata": {},
   "outputs": [],
   "source": [
    "%load_ext autoreload"
   ]
  },
  {
   "cell_type": "code",
   "execution_count": 4,
   "metadata": {},
   "outputs": [],
   "source": [
    "x1 = [\n",
    "    -5.0000,\n",
    "    -3.8889,\n",
    "    -2.7778,\n",
    "    -1.6667,\n",
    "    -0.5556,\n",
    "    0.5556,\n",
    "    1.6667,\n",
    "    2.7778,\n",
    "    3.8889,\n",
    "    5.0000,\n",
    "]\n",
    "y1 = [\n",
    "    57.2441,\n",
    "    33.0303,\n",
    "    16.4817,\n",
    "    7.0299,\n",
    "    0.5498,\n",
    "    0.7117,\n",
    "    3.4185,\n",
    "    12.1767,\n",
    "    24.9167,\n",
    "    44.2495,\n",
    "]"
   ]
  },
  {
   "cell_type": "code",
   "execution_count": 6,
   "metadata": {},
   "outputs": [],
   "source": [
    "%autoreload 2\n",
    "from src import (\n",
    "    eliminacion_gaussiana,\n",
    "    descomposicion_LU,\n",
    "    resolver_LU,\n",
    "    matriz_aumentada,\n",
    "    separar_m_aumentada,\n",
    ")\n"
   ]
  },
  {
   "cell_type": "code",
   "execution_count": 8,
   "metadata": {},
   "outputs": [],
   "source": [
    "import numpy as np\n",
    "import matplotlib.pyplot as plt\n",
    "from scipy.optimize import curve_fit\n",
    "\n",
    "def interpolacion_minimos_cuadrados():\n",
    "    # Datos proporcionados\n",
    "    x1 = np.array([\n",
    "        -5.0000, -3.8889, -2.7778, -1.6667, -0.5556,\n",
    "        0.5556, 1.6667, 2.7778, 3.8889, 5.0000\n",
    "    ])\n",
    "    y1 = np.array([\n",
    "        57.2441, 33.0303, 16.4817, 7.0299, 0.5498,\n",
    "        0.7117, 3.4185, 12.1767, 24.9167, 44.2495\n",
    "    ])\n",
    "    \n",
    "    # Función cuadrática\n",
    "    def cuadratica(x, a2, a1, a0):\n",
    "        return a2 * x**2 + a1 * x + a0\n",
    "    \n",
    "    # Ajuste por mínimos cuadrados\n",
    "    popt1, _ = curve_fit(cuadratica, x1, y1)\n",
    "    y1_fit = cuadratica(x1, *popt1)\n",
    "\n",
    "    # Gráfica del ajuste\n",
    "    plt.figure(figsize=(10, 5))\n",
    "    plt.scatter(x1, y1, label='Datos originales', color='blue')\n",
    "    plt.plot(x1, y1_fit, label='Ajuste cuadrático', color='red')\n",
    "    plt.title('Conjunto de datos 1')\n",
    "    plt.xlabel('x')\n",
    "    plt.ylabel('y')\n",
    "    plt.legend()\n",
    "    plt.tight_layout()\n",
    "    plt.show()\n",
    "    \n",
    "    # Mostrar coeficientes del ajuste\n",
    "    print(\"Coeficientes del ajuste para Conjunto 1 (Cuadrático):\")\n",
    "    print(f\"a2 = {popt1[0]:.6f}, a1 = {popt1[1]:.6f}, a0 = {popt1[2]:.6f}\")\n",
    "\n",
    "# Ejecutar la función\n",
    "interpolacion_minimos_cuadrados()"
   ]
  }
 ],
 "metadata": {
  "kernelspec": {
   "display_name": "Python 3",
   "language": "python",
   "name": "python3"
  },
  "language_info": {
   "codemirror_mode": {
    "name": "ipython",
    "version": 3
   },
   "file_extension": ".py",
   "mimetype": "text/x-python",
   "name": "python",
   "nbconvert_exporter": "python",
   "pygments_lexer": "ipython3",
   "version": "3.11.9"
  }
 },
 "nbformat": 4,
 "nbformat_minor": 2
}
