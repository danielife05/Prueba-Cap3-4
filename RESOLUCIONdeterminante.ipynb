{
 "cells": [
  {
   "cell_type": "code",
   "execution_count": 4,
   "metadata": {},
   "outputs": [
    {
     "name": "stdout",
     "output_type": "stream",
     "text": [
      "The autoreload extension is already loaded. To reload it, use:\n",
      "  %reload_ext autoreload\n"
     ]
    }
   ],
   "source": [
    "%load_ext autoreload"
   ]
  },
  {
   "cell_type": "code",
   "execution_count": 5,
   "metadata": {},
   "outputs": [
    {
     "name": "stdout",
     "output_type": "stream",
     "text": [
      "[01-11 12:46:51][INFO] 2025-01-11 12:46:51.706115\n"
     ]
    }
   ],
   "source": [
    "%autoreload 2\n",
    "from src import (\n",
    "    eliminacion_gaussiana,\n",
    "    descomposicion_LU,\n",
    "    resolver_LU,\n",
    "    matriz_aumentada,\n",
    "    separar_m_aumentada,\n",
    ")"
   ]
  },
  {
   "cell_type": "code",
   "execution_count": 6,
   "metadata": {},
   "outputs": [],
   "source": [
    "def calc_determinante(A: list[list[float]]) -> float:\n",
    "    \"\"\"\n",
    "    Calcula el determinante de una matriz cuadrada utilizando eliminación gaussiana.\n",
    "    \n",
    "    Parameters:\n",
    "    A (list[list[float]]): Matriz cuadrada de tamaño n x n.\n",
    "\n",
    "    Returns:\n",
    "    float: Determinante de la matriz A.\n",
    "    \"\"\"\n",
    "    n = len(A)\n",
    "    matriz = [fila[:] for fila in A]\n",
    "    determinante = 1\n",
    "\n",
    "    for i in range(n):\n",
    "        if matriz[i][i] == 0:\n",
    "            for j in range(i+1, n):\n",
    "                if matriz[j][i] != 0:\n",
    "                    matriz[i], matriz[j] = matriz[j], matriz[i]\n",
    "                    determinante *= -1  \n",
    "                    break\n",
    "            else:\n",
    "                return 0\n",
    "\n",
    "        pivote = matriz[i][i]\n",
    "        determinante *= pivote\n",
    "        for k in range(i, n):\n",
    "            matriz[i][k] /= pivote\n",
    "            \n",
    "        for j in range(i+1, n):\n",
    "            factor = matriz[j][i]\n",
    "            for k in range(i, n):\n",
    "                matriz[j][k] -= factor * matriz[i][k]\n",
    "\n",
    "    return determinante"
   ]
  },
  {
   "cell_type": "code",
   "execution_count": 7,
   "metadata": {},
   "outputs": [
    {
     "data": {
      "text/plain": [
       "55148.00000000084"
      ]
     },
     "execution_count": 7,
     "metadata": {},
     "output_type": "execute_result"
    }
   ],
   "source": [
    "A = [\n",
    "    [-4, -2, -4, -4, -1, 2, 5, 1],\n",
    "    [0, 4, 0, 3, 0, -2, 1, 5],\n",
    "    [1, 3, 1, 2, -4, 3, -5, 2],\n",
    "    [-5, -4, -1, -4, 2, -1, 0, 5],\n",
    "    [4, -1, -4, 4, -3, -3, 3, -2],\n",
    "    [3, 2, -3, 3, -1, -3, -4, 1],\n",
    "    [-5, -4, -1, -3, 4, -2, 2, 0],\n",
    "    [-4, -2, 4, 5, -3, 3, -1, -3]\n",
    "]\n",
    "\n",
    "calc_determinante(A)\n"
   ]
  },
  {
   "cell_type": "code",
   "execution_count": 8,
   "metadata": {},
   "outputs": [
    {
     "name": "stdout",
     "output_type": "stream",
     "text": [
      "{np.float64(55147.99999999978)}\n"
     ]
    }
   ],
   "source": [
    "import numpy as np\n",
    "\n",
    "A_np = np.array(A)\n",
    "det_np = np.linalg.det(A_np)\n",
    "print({det_np})"
   ]
  },
  {
   "cell_type": "code",
   "execution_count": 9,
   "metadata": {},
   "outputs": [
    {
     "data": {
      "text/plain": [
       "2341546.0"
      ]
     },
     "execution_count": 9,
     "metadata": {},
     "output_type": "execute_result"
    }
   ],
   "source": [
    "A2 = [\n",
    "    [2, 2, 4, 5, -2, -3, 2, -2],\n",
    "    [-1, -1, 3, 2, 1, 1, -4, 4],\n",
    "    [2, 5, -3, -3, -2, 2, 5, 3],\n",
    "    [-2, -4, 0, 1, -1, 5, -4, -1],\n",
    "    [1, -2, -1, 5, 5, 2, 1, -2],\n",
    "    [5, 4, 0, 3, 4, -1, -3, -2],\n",
    "    [4, -4, 1, 2, 3, 3, -1, 3],\n",
    "    [-2, 1, -3, 0, 5, 4, 4, -4],\n",
    "]\n",
    "calc_determinante(A2)"
   ]
  },
  {
   "cell_type": "code",
   "execution_count": 10,
   "metadata": {},
   "outputs": [
    {
     "name": "stdout",
     "output_type": "stream",
     "text": [
      "{np.float64(2341545.999999998)}\n"
     ]
    }
   ],
   "source": [
    "A_np = np.array(A2)\n",
    "det_np = np.linalg.det(A_np)\n",
    "print({det_np})"
   ]
  }
 ],
 "metadata": {
  "kernelspec": {
   "display_name": "Python 3",
   "language": "python",
   "name": "python3"
  },
  "language_info": {
   "codemirror_mode": {
    "name": "ipython",
    "version": 3
   },
   "file_extension": ".py",
   "mimetype": "text/x-python",
   "name": "python",
   "nbconvert_exporter": "python",
   "pygments_lexer": "ipython3",
   "version": "3.11.9"
  }
 },
 "nbformat": 4,
 "nbformat_minor": 2
}
