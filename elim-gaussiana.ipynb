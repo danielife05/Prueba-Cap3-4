{
 "cells": [
  {
   "cell_type": "code",
   "execution_count": 1,
   "metadata": {},
   "outputs": [
    {
     "name": "stdout",
     "output_type": "stream",
     "text": [
      "a\n"
     ]
    }
   ],
   "source": [
    "print(\"a\")\n",
    "\n",
    "%load_ext autoreload"
   ]
  },
  {
   "cell_type": "code",
   "execution_count": 18,
   "metadata": {},
   "outputs": [
    {
     "name": "stdout",
     "output_type": "stream",
     "text": [
      "[12-21 09:12:11][INFO] 2024-12-21 09:12:11.813236\n",
      "[12-21 09:12:11][INFO] \n",
      "[[ 1.  1. -3. -9.]\n",
      " [ 0.  2.  5. 13.]\n",
      " [ 0. -3. 14. 45.]]\n",
      "[12-21 09:12:11][INFO] \n",
      "[[ 1.   1.  -3.  -9. ]\n",
      " [ 0.   2.   5.  13. ]\n",
      " [ 0.   0.  21.5 64.5]]\n"
     ]
    },
    {
     "data": {
      "text/plain": [
       "array([ 1., -1.,  3.])"
      ]
     },
     "execution_count": 18,
     "metadata": {},
     "output_type": "execute_result"
    }
   ],
   "source": [
    "%autoreload\n",
    "from src import eliminacion_gaussiana\n",
    "Ab = [[4, 1, 2, 9], [2, 4, -1, -5], [1, 1, -3, -9]]\n",
    "\n",
    "eliminacion_gaussiana(Ab)"
   ]
  }
 ],
 "metadata": {
  "kernelspec": {
   "display_name": "base",
   "language": "python",
   "name": "python3"
  },
  "language_info": {
   "codemirror_mode": {
    "name": "ipython",
    "version": 3
   },
   "file_extension": ".py",
   "mimetype": "text/x-python",
   "name": "python",
   "nbconvert_exporter": "python",
   "pygments_lexer": "ipython3",
   "version": "3.12.3"
  }
 },
 "nbformat": 4,
 "nbformat_minor": 2
}
